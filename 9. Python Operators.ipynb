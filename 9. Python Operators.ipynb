{
 "cells": [
  {
   "cell_type": "code",
   "execution_count": 1,
   "id": "2c436459",
   "metadata": {},
   "outputs": [
    {
     "name": "stdout",
     "output_type": "stream",
     "text": [
      "15\n"
     ]
    }
   ],
   "source": [
    "#Python Operators\n",
    "\n",
    "\"\"\"\n",
    "Operators are used to perform operations on variables and values.\n",
    "\n",
    "In the example below, we use the + operator to add together two values:\n",
    "\"\"\"\n",
    "print(10 + 5)"
   ]
  },
  {
   "cell_type": "code",
   "execution_count": 2,
   "id": "12c03ee9",
   "metadata": {},
   "outputs": [
    {
     "data": {
      "text/plain": [
       "'\\n\\nPython divides the operators in the following groups:\\n\\nArithmetic operators\\nAssignment operators\\nComparison operators\\nLogical operators\\nIdentity operators\\nMembership operators\\nBitwise operators\\n\\n'"
      ]
     },
     "execution_count": 2,
     "metadata": {},
     "output_type": "execute_result"
    }
   ],
   "source": [
    "\"\"\"\n",
    "\n",
    "Python divides the operators in the following groups:\n",
    "\n",
    "Arithmetic operators\n",
    "Assignment operators\n",
    "Comparison operators\n",
    "Logical operators\n",
    "Identity operators\n",
    "Membership operators\n",
    "Bitwise operators\n",
    "\n",
    "\"\"\"\n",
    "\n"
   ]
  },
  {
   "cell_type": "code",
   "execution_count": 3,
   "id": "99258054",
   "metadata": {},
   "outputs": [
    {
     "name": "stdout",
     "output_type": "stream",
     "text": [
      "5\n"
     ]
    }
   ],
   "source": [
    "#Python Arithmetic Operators\n",
    "\n",
    "# Add operator '+'\n",
    "x= 2\n",
    "y= 3\n",
    "print(x+y)"
   ]
  },
  {
   "cell_type": "code",
   "execution_count": 4,
   "id": "410f895a",
   "metadata": {},
   "outputs": [
    {
     "name": "stdout",
     "output_type": "stream",
     "text": [
      "-1\n"
     ]
    }
   ],
   "source": [
    "# Subtract opertor '-'\n",
    "\n",
    "# Add operator '+'\n",
    "x= 2\n",
    "y= 3\n",
    "print(x-y)"
   ]
  },
  {
   "cell_type": "code",
   "execution_count": 5,
   "id": "66b1b9a7",
   "metadata": {},
   "outputs": [
    {
     "name": "stdout",
     "output_type": "stream",
     "text": [
      "6\n"
     ]
    }
   ],
   "source": [
    "#Multiplication Operator\n",
    "\n",
    "# Add operator '*'\n",
    "x= 2\n",
    "y= 3\n",
    "print(x*y)"
   ]
  },
  {
   "cell_type": "code",
   "execution_count": 6,
   "id": "fc7ef824",
   "metadata": {},
   "outputs": [
    {
     "name": "stdout",
     "output_type": "stream",
     "text": [
      "1.5\n"
     ]
    }
   ],
   "source": [
    "#Division Operator '/'\n",
    "\n",
    "# Add operator '+'\n",
    "x= 3\n",
    "y= 2\n",
    "print(x/y)"
   ]
  },
  {
   "cell_type": "code",
   "execution_count": 8,
   "id": "dc1cd7db",
   "metadata": {},
   "outputs": [
    {
     "name": "stdout",
     "output_type": "stream",
     "text": [
      "1\n"
     ]
    }
   ],
   "source": [
    "#Modulus Operator '%'\n",
    "\n",
    "x= 7\n",
    "y= 2\n",
    "print(x%y)"
   ]
  },
  {
   "cell_type": "code",
   "execution_count": 9,
   "id": "91f296c9",
   "metadata": {},
   "outputs": [
    {
     "name": "stdout",
     "output_type": "stream",
     "text": [
      "9\n"
     ]
    }
   ],
   "source": [
    "#Exponentiation operator '**'\n",
    "\n",
    "x= 3\n",
    "y= 2\n",
    "print(x**y)"
   ]
  },
  {
   "cell_type": "code",
   "execution_count": 10,
   "id": "21b88dc1",
   "metadata": {},
   "outputs": [
    {
     "name": "stdout",
     "output_type": "stream",
     "text": [
      "6\n"
     ]
    }
   ],
   "source": [
    "#Floor division operator '//'\n",
    "\n",
    "x= 12\n",
    "y= 2\n",
    "print(x//y)\n",
    "\n"
   ]
  },
  {
   "cell_type": "code",
   "execution_count": 11,
   "id": "45b1fe38",
   "metadata": {},
   "outputs": [
    {
     "name": "stdout",
     "output_type": "stream",
     "text": [
      "5\n"
     ]
    }
   ],
   "source": [
    "#Python Assignment Operator\n",
    "\n",
    "#Assignment operators are used to assign values to variables:\n",
    "\n",
    "# '=' operator\n",
    "\n",
    "x = 5\n",
    "print(x)"
   ]
  },
  {
   "cell_type": "code",
   "execution_count": 16,
   "id": "d310867b",
   "metadata": {},
   "outputs": [
    {
     "name": "stdout",
     "output_type": "stream",
     "text": [
      "8\n"
     ]
    }
   ],
   "source": [
    "# '+=' operator\n",
    "\n",
    "x=5\n",
    "x=x+3\n",
    "print(x)"
   ]
  },
  {
   "cell_type": "code",
   "execution_count": 17,
   "id": "6dffa920",
   "metadata": {},
   "outputs": [
    {
     "name": "stdout",
     "output_type": "stream",
     "text": [
      "2\n"
     ]
    }
   ],
   "source": [
    "# '-=' operator\n",
    "\n",
    "x=5\n",
    "x-=3\n",
    "print(x)"
   ]
  },
  {
   "cell_type": "code",
   "execution_count": 18,
   "id": "f4f48aa9",
   "metadata": {},
   "outputs": [
    {
     "name": "stdout",
     "output_type": "stream",
     "text": [
      "15\n"
     ]
    }
   ],
   "source": [
    "# '*=' operator\n",
    "\n",
    "x=5\n",
    "x=x*3\n",
    "print(x)"
   ]
  },
  {
   "cell_type": "code",
   "execution_count": 19,
   "id": "295a46b9",
   "metadata": {},
   "outputs": [
    {
     "name": "stdout",
     "output_type": "stream",
     "text": [
      "x is equal to y\n"
     ]
    }
   ],
   "source": [
    "# Comparison Operator\n",
    "\n",
    "# Equal operator '=='\n",
    "\n",
    "x=5\n",
    "y=5\n",
    "if(x==y):\n",
    "    print(\"x is equal to y\")"
   ]
  },
  {
   "cell_type": "code",
   "execution_count": 20,
   "id": "054cf725",
   "metadata": {},
   "outputs": [
    {
     "name": "stdout",
     "output_type": "stream",
     "text": [
      "x is not equal to y\n"
     ]
    }
   ],
   "source": [
    "# Not Equal operator '!='\n",
    "\n",
    "x=4\n",
    "y=5\n",
    "if(x!=y):\n",
    "    print(\"x is not equal to y\")"
   ]
  },
  {
   "cell_type": "code",
   "execution_count": 21,
   "id": "6ab70a5c",
   "metadata": {},
   "outputs": [
    {
     "name": "stdout",
     "output_type": "stream",
     "text": [
      "x is bigger than y\n"
     ]
    }
   ],
   "source": [
    "# Greater than operator '>'\n",
    "\n",
    "x=5\n",
    "y=3\n",
    "if(x>y):\n",
    "    print(\"x is bigger than y\")"
   ]
  },
  {
   "cell_type": "code",
   "execution_count": 22,
   "id": "6c467efe",
   "metadata": {},
   "outputs": [
    {
     "name": "stdout",
     "output_type": "stream",
     "text": [
      "x is less than y\n"
     ]
    }
   ],
   "source": [
    "# Less than '<'\n",
    "\n",
    "x=2\n",
    "y=7\n",
    "if(x<y):\n",
    "    print(\"x is less than y\")"
   ]
  },
  {
   "cell_type": "code",
   "execution_count": 23,
   "id": "80669fed",
   "metadata": {},
   "outputs": [
    {
     "data": {
      "text/plain": [
       "\"\\nsome other comparison operators are:\\n\\nGreater than or equal to operator '>='\\nand\\nLess than or equal to operator '<='\\n\""
      ]
     },
     "execution_count": 23,
     "metadata": {},
     "output_type": "execute_result"
    }
   ],
   "source": [
    "\"\"\"\n",
    "some other comparison operators are:\n",
    "\n",
    "Greater than or equal to operator '>='\n",
    "and\n",
    "Less than or equal to operator '<='\n",
    "\"\"\"\n",
    "\n"
   ]
  },
  {
   "cell_type": "code",
   "execution_count": 24,
   "id": "6a5d7699",
   "metadata": {},
   "outputs": [
    {
     "name": "stdout",
     "output_type": "stream",
     "text": [
      "b is big\n"
     ]
    }
   ],
   "source": [
    "#Python Logical Operators\n",
    "\n",
    "#Logical operators are used to combine conditional statements:\n",
    "\n",
    "#1st is 'and' operator\n",
    "\n",
    "a=3\n",
    "b=4\n",
    "c=1\n",
    "if(a<b and b>c):\n",
    "    print(\"b is big\")\n"
   ]
  },
  {
   "cell_type": "code",
   "execution_count": 31,
   "id": "fec54436",
   "metadata": {},
   "outputs": [
    {
     "name": "stdout",
     "output_type": "stream",
     "text": [
      "b is not big\n"
     ]
    }
   ],
   "source": [
    "#2nd is 'or' opertor\n",
    "\n",
    "a=2\n",
    "b=3\n",
    "c=7\n",
    "if(a>b or c<b):\n",
    "    print(\"b is big\")\n",
    "else:\n",
    "    print(\"b is not big\")"
   ]
  },
  {
   "cell_type": "code",
   "execution_count": 32,
   "id": "a0a6416a",
   "metadata": {},
   "outputs": [],
   "source": [
    "#for returning false result if result is true we use 'not' operator usage not(x<5 and x<10)\n"
   ]
  },
  {
   "cell_type": "code",
   "execution_count": 33,
   "id": "06007b4b",
   "metadata": {},
   "outputs": [
    {
     "name": "stdout",
     "output_type": "stream",
     "text": [
      "True\n"
     ]
    }
   ],
   "source": [
    "#Python Identity Operators\n",
    "\n",
    "\"\"\"\n",
    "Identity operators are used to compare the objects, not if they are equal, \n",
    "but if they are actually the same object, with the same memory location:\n",
    "\"\"\"\n",
    "\n",
    "# 'in' operator Returns True if a sequence with the specified value is present in the object\n",
    "\n",
    "fruits=[\"apple\",\"banana\",\"guava\"]\n",
    "print(\"banana\" in fruits)\n",
    "\n",
    "# returns True because a sequence with the value \"banana\" is in the list"
   ]
  },
  {
   "cell_type": "code",
   "execution_count": 34,
   "id": "1a25aef7",
   "metadata": {},
   "outputs": [
    {
     "name": "stdout",
     "output_type": "stream",
     "text": [
      "True\n"
     ]
    }
   ],
   "source": [
    "# 'not in' operator = Returns True if a sequence with the specified value is not present in the object\n",
    "\n",
    "x = [\"apple\", \"banana\"]\n",
    "\n",
    "print(\"pineapple\" not in x)\n",
    "\n",
    "# returns True because a sequence with the value \"pineapple\" is not in the list\n"
   ]
  },
  {
   "cell_type": "code",
   "execution_count": 35,
   "id": "5b2a439c",
   "metadata": {},
   "outputs": [
    {
     "name": "stdout",
     "output_type": "stream",
     "text": [
      "2\n"
     ]
    }
   ],
   "source": [
    "#Bitwise Operators\n",
    "\n",
    "#Bitwise operators are used to compare (binary) numbers:\n",
    "\n",
    "#1st '&' operator also known as bitwise and operator\n",
    "\n",
    "print(6 & 3)\n",
    "\n",
    "\"\"\"\n",
    "The & operator compares each bit and set it to 1 if both are 1, otherwise it is set to 0:\n",
    "\n",
    "6 = 0000000000000110\n",
    "3 = 0000000000000011\n",
    "--------------------\n",
    "2 = 0000000000000010\n",
    "====================\n",
    "\n",
    "Decimal numbers and their binary values:\n",
    "0 = 0000000000000000\n",
    "1 = 0000000000000001\n",
    "2 = 0000000000000010\n",
    "3 = 0000000000000011\n",
    "4 = 0000000000000100\n",
    "5 = 0000000000000101\n",
    "6 = 0000000000000110\n",
    "7 = 0000000000000111\n",
    "\"\"\""
   ]
  },
  {
   "cell_type": "code",
   "execution_count": 37,
   "id": "718ab1d7",
   "metadata": {},
   "outputs": [
    {
     "name": "stdout",
     "output_type": "stream",
     "text": [
      "7\n"
     ]
    }
   ],
   "source": [
    "#2nd '|' operator also known as bitwise OR operator\n",
    "\"\"\"\n",
    "The | operator compares each bit and set it to 1 if one or both is 1, otherwise it is set to 0:\n",
    "\n",
    "6 = 0000000000000110\n",
    "3 = 0000000000000011\n",
    "--------------------\n",
    "7 = 0000000000000111\n",
    "====================\n",
    "\n",
    "Decimal numbers and their binary values:\n",
    "0 = 0000000000000000\n",
    "1 = 0000000000000001\n",
    "2 = 0000000000000010\n",
    "3 = 0000000000000011\n",
    "4 = 0000000000000100\n",
    "5 = 0000000000000101\n",
    "6 = 0000000000000110\n",
    "7 = 0000000000000111\n",
    "\"\"\"\n",
    "print(6 | 3)\n"
   ]
  },
  {
   "cell_type": "code",
   "execution_count": 38,
   "id": "6c1b7baf",
   "metadata": {},
   "outputs": [
    {
     "name": "stdout",
     "output_type": "stream",
     "text": [
      "5\n"
     ]
    }
   ],
   "source": [
    "#3rd '^' operator also known as bitwise XOR operator\n",
    "\"\"\"\n",
    "The ^ operator compares each bit and set it to 1 if only one is 1, otherwise (if both are 1 or both are 0) it is set to 0:\n",
    "\n",
    "6 = 0000000000000110\n",
    "3 = 0000000000000011\n",
    "--------------------\n",
    "5 = 0000000000000101\n",
    "====================\n",
    "\n",
    "Decimal numbers and their binary values:\n",
    "0 = 0000000000000000\n",
    "1 = 0000000000000001\n",
    "2 = 0000000000000010\n",
    "3 = 0000000000000011\n",
    "4 = 0000000000000100\n",
    "5 = 0000000000000101\n",
    "6 = 0000000000000110\n",
    "7 = 0000000000000111\n",
    "\"\"\"\n",
    "\n",
    "print(6 ^ 3)"
   ]
  },
  {
   "cell_type": "code",
   "execution_count": 39,
   "id": "35a28d7c",
   "metadata": {},
   "outputs": [
    {
     "name": "stdout",
     "output_type": "stream",
     "text": [
      "-4\n"
     ]
    }
   ],
   "source": [
    "#4rth '~' operator is called bitwise NOT operator\n",
    "\n",
    "\"\"\"\n",
    "The ~ operator inverts each bit (0 becomes 1 and 1 becomes 0).\n",
    "\n",
    "Inverted 3 becomes -4:\n",
    " 3 = 0000000000000011\n",
    "-4 = 1111111111111100\n",
    "\n",
    "Decimal numbers and their binary values:\n",
    " 4 = 0000000000000100\n",
    " 3 = 0000000000000011\n",
    " 2 = 0000000000000010\n",
    " 1 = 0000000000000001\n",
    " 0 = 0000000000000000\n",
    "-1 = 1111111111111111\n",
    "-2 = 1111111111111110\n",
    "-3 = 1111111111111101\n",
    "-4 = 1111111111111100\n",
    "\"\"\"\n",
    "\n",
    "print(~3)"
   ]
  },
  {
   "cell_type": "code",
   "execution_count": null,
   "id": "0bb79dd3",
   "metadata": {},
   "outputs": [],
   "source": []
  }
 ],
 "metadata": {
  "kernelspec": {
   "display_name": "Python 3 (ipykernel)",
   "language": "python",
   "name": "python3"
  },
  "language_info": {
   "codemirror_mode": {
    "name": "ipython",
    "version": 3
   },
   "file_extension": ".py",
   "mimetype": "text/x-python",
   "name": "python",
   "nbconvert_exporter": "python",
   "pygments_lexer": "ipython3",
   "version": "3.11.5"
  }
 },
 "nbformat": 4,
 "nbformat_minor": 5
}
