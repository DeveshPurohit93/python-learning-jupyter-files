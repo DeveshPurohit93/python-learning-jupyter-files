{
 "cells": [
  {
   "cell_type": "code",
   "execution_count": 1,
   "id": "9a694edc",
   "metadata": {},
   "outputs": [
    {
     "name": "stdout",
     "output_type": "stream",
     "text": [
      "Hello\n",
      "Hello\n"
     ]
    }
   ],
   "source": [
    "#Strings\n",
    "\"\"\"\n",
    "Strings in python are surrounded by either single quotation marks, or double quotation marks.\n",
    "\n",
    "'hello' is the same as \"hello\".\n",
    "\n",
    "You can display a string literal with the print() function:\n",
    "\"\"\"\n",
    "\n",
    "print(\"Hello\")\n",
    "print('Hello')"
   ]
  },
  {
   "cell_type": "code",
   "execution_count": 2,
   "id": "fc114c72",
   "metadata": {},
   "outputs": [
    {
     "name": "stdout",
     "output_type": "stream",
     "text": [
      "string\n"
     ]
    }
   ],
   "source": [
    "#Assigning a string to variable\n",
    "\n",
    "a=\"string\"\n",
    "print(a)"
   ]
  },
  {
   "cell_type": "code",
   "execution_count": 5,
   "id": "97ec64c6",
   "metadata": {},
   "outputs": [
    {
     "name": "stdout",
     "output_type": "stream",
     "text": [
      "Now whatever is wriiten between these tree quotes will be considered as value for the variable a\n"
     ]
    }
   ],
   "source": [
    "#multiline strings\n",
    "\n",
    "a=\"\"\"Now whatever is wriiten between these tree quotes will be considered as value for the variable a\"\"\"\n",
    "\n",
    "print(a)"
   ]
  },
  {
   "cell_type": "code",
   "execution_count": 6,
   "id": "745b9872",
   "metadata": {},
   "outputs": [
    {
     "name": "stdout",
     "output_type": "stream",
     "text": [
      " this is another way of declaring string which consists of multiple lines\n"
     ]
    }
   ],
   "source": [
    "#another way for multiline strings\n",
    "\n",
    "a= ''' this is another way of declaring string which consists of multiple lines'''\n",
    "\n",
    "print(a)"
   ]
  },
  {
   "cell_type": "code",
   "execution_count": 12,
   "id": "e51aaf28",
   "metadata": {},
   "outputs": [
    {
     "name": "stdout",
     "output_type": "stream",
     "text": [
      "H\n",
      "e\n",
      "l\n",
      "l\n",
      "o\n",
      ",\n",
      " \n",
      "W\n",
      "o\n",
      "r\n",
      "l\n",
      "d\n",
      "!\n"
     ]
    }
   ],
   "source": [
    "#Strings as Array\n",
    "\n",
    "#strings in python are arrays of bytes representing unicode characters.\n",
    "\n",
    "#square brackets can be used to access elements of teh string\n",
    "\n",
    "a = \"Hello, World!\"\n",
    "print(a[0])\n",
    "print(a[1])\n",
    "print(a[2])\n",
    "print(a[3])\n",
    "print(a[4])\n",
    "print(a[5])\n",
    "print(a[6])\n",
    "print(a[7])\n",
    "print(a[8])\n",
    "print(a[9])\n",
    "print(a[10])\n",
    "print(a[11])\n",
    "print(a[12])\n",
    "\n"
   ]
  },
  {
   "cell_type": "code",
   "execution_count": 8,
   "id": "22c6d26a",
   "metadata": {},
   "outputs": [
    {
     "name": "stdout",
     "output_type": "stream",
     "text": [
      "b\n",
      "a\n",
      "n\n",
      "a\n",
      "n\n",
      "a\n"
     ]
    }
   ],
   "source": [
    "#Looping Through a String\n",
    "\n",
    "#Loop through the letters in the word \"banana\":\n",
    "\n",
    "for x in \"banana\":\n",
    "  print(x)"
   ]
  },
  {
   "cell_type": "code",
   "execution_count": 13,
   "id": "bc6ed7a2",
   "metadata": {},
   "outputs": [
    {
     "name": "stdout",
     "output_type": "stream",
     "text": [
      "True\n"
     ]
    }
   ],
   "source": [
    "#Check string\n",
    "\n",
    "#To check if a certain phrase or character is present in a string, we can use the keyword \"in\".\n",
    "\n",
    "txt = \"The best things in life are free!\"\n",
    "print(\"free\" in txt)"
   ]
  },
  {
   "cell_type": "code",
   "execution_count": 14,
   "id": "d44ec39e",
   "metadata": {},
   "outputs": [
    {
     "name": "stdout",
     "output_type": "stream",
     "text": [
      "Yes, 'free' is present.\n"
     ]
    }
   ],
   "source": [
    "# using if condition for checking string\n",
    "\n",
    "#Use it in an if statement:\n",
    "\n",
    "txt = \"The best things in life are free!\"\n",
    "if \"free\" in txt:\n",
    "  print(\"Yes, 'free' is present.\")"
   ]
  },
  {
   "cell_type": "code",
   "execution_count": 15,
   "id": "1bb82888",
   "metadata": {},
   "outputs": [
    {
     "name": "stdout",
     "output_type": "stream",
     "text": [
      "True\n"
     ]
    }
   ],
   "source": [
    "#CheckIFNot\n",
    "\n",
    "#To check if a certain phrase or character is NOT present in a string, we can use the keyword \"not in\".\n",
    "\n",
    "txt = \"The best things in life are free!\"\n",
    "print(\"expensive\" not in txt)"
   ]
  },
  {
   "cell_type": "code",
   "execution_count": 16,
   "id": "9a19e49d",
   "metadata": {},
   "outputs": [
    {
     "name": "stdout",
     "output_type": "stream",
     "text": [
      "No, 'expensive' is NOT present.\n"
     ]
    }
   ],
   "source": [
    "#we can use an if statement here as well\n",
    "\n",
    "txt = \"The best things in life are free!\"\n",
    "if \"expensive\" not in txt:\n",
    "  print(\"No, 'expensive' is NOT present.\")"
   ]
  },
  {
   "cell_type": "code",
   "execution_count": 2,
   "id": "2e9621d0",
   "metadata": {},
   "outputs": [
    {
     "name": "stdout",
     "output_type": "stream",
     "text": [
      "llo\n",
      "ello,\n"
     ]
    }
   ],
   "source": [
    "#Slicing a string\n",
    "\n",
    "\"\"\"\n",
    "In python to return a range of characters within a string. \n",
    "It can acheived through the start index and end index, seperated by a colon (:) \n",
    "in order to return that part of the string\n",
    "\n",
    "Note: Indexing always start with zero.\n",
    "\"\"\"\n",
    "\n",
    "b = \"Hello, World!\"\n",
    "print(b[2:5])\n",
    "print(b[1:6])"
   ]
  },
  {
   "cell_type": "code",
   "execution_count": 4,
   "id": "4527d9f2",
   "metadata": {},
   "outputs": [
    {
     "name": "stdout",
     "output_type": "stream",
     "text": [
      "Hello\n",
      "Hello, W\n"
     ]
    }
   ],
   "source": [
    "#Slice from  the start\n",
    "\n",
    "\"\"\"\n",
    "By leaving out the start index, we can fetch the string from its first character\n",
    "\"\"\"\n",
    "\n",
    "b = \"Hello, World!\"\n",
    "print(b[:5])\n",
    "print(b[:8])"
   ]
  },
  {
   "cell_type": "code",
   "execution_count": 6,
   "id": "9bbdb851",
   "metadata": {},
   "outputs": [
    {
     "name": "stdout",
     "output_type": "stream",
     "text": [
      "llo, World!\n",
      " World!\n"
     ]
    }
   ],
   "source": [
    "#Slcing to the end\n",
    "\n",
    "\"\"\"\n",
    "Now if want to start from a index and print through the end of the string \n",
    "we can do that by giving the position of start index and leave the end index blank. \n",
    "\"\"\"\n",
    "b = \"Hello, World!\"\n",
    "print(b[2:])\n",
    "print(b[6:])"
   ]
  },
  {
   "cell_type": "code",
   "execution_count": 7,
   "id": "c0f40c56",
   "metadata": {},
   "outputs": [
    {
     "name": "stdout",
     "output_type": "stream",
     "text": [
      "orl\n"
     ]
    }
   ],
   "source": [
    "#Negative Indexing\n",
    "\n",
    "\"\"\"\n",
    "we can also use negative indexes to slice from the end of the string\n",
    "\"\"\"\n",
    "\n",
    "b = \"Hello, World!\"\n",
    "print(b[-5:-2])\n"
   ]
  },
  {
   "cell_type": "code",
   "execution_count": 8,
   "id": "e962c754",
   "metadata": {},
   "outputs": [
    {
     "name": "stdout",
     "output_type": "stream",
     "text": [
      "HELLO, WORLD!\n"
     ]
    }
   ],
   "source": [
    "#Python-Modify Strings\n",
    "\n",
    "\"\"\"\n",
    "Python has a set of built-in methods to use on strings.\n",
    "\"\"\"\n",
    "\n",
    "#Upper-case\n",
    "\n",
    "#The upper() method returns the string in upper case:\n",
    "\n",
    "a = \"Hello, World!\"\n",
    "print(a.upper())"
   ]
  },
  {
   "cell_type": "code",
   "execution_count": 9,
   "id": "bea419ca",
   "metadata": {},
   "outputs": [
    {
     "name": "stdout",
     "output_type": "stream",
     "text": [
      "hello, world!\n"
     ]
    }
   ],
   "source": [
    "#Lower-case\n",
    "\n",
    "#The lower() method returns the string in lower case:\n",
    "\n",
    "a = \"Hello, World!\"\n",
    "print(a.lower())"
   ]
  },
  {
   "cell_type": "code",
   "execution_count": 12,
   "id": "cdca7229",
   "metadata": {},
   "outputs": [
    {
     "name": "stdout",
     "output_type": "stream",
     "text": [
      " Hello, World! \n",
      "Hello, World!\n"
     ]
    }
   ],
   "source": [
    "#Removing Whitespace\n",
    "\n",
    "\"\"\"\n",
    "Whitespace is the space before and /or after the actual text\n",
    "\"\"\"\n",
    "#The strip() method removes any whitespace from the beginning or the end:\n",
    "a = \" Hello, World! \"\n",
    "print(a)\n",
    "print(a.strip()) # returns \"Hello, World!\""
   ]
  },
  {
   "cell_type": "code",
   "execution_count": 13,
   "id": "92e4fd25",
   "metadata": {},
   "outputs": [
    {
     "name": "stdout",
     "output_type": "stream",
     "text": [
      "['Hello', ' World!']\n"
     ]
    }
   ],
   "source": [
    "#Split String\n",
    "\n",
    "#The split() method returns a list where the text between the specified separator becomes the list items.\n",
    "\n",
    "a = \"Hello, World!\"\n",
    "print(a.split(\",\")) # returns ['Hello', ' World!']"
   ]
  },
  {
   "cell_type": "code",
   "execution_count": 14,
   "id": "333f9030",
   "metadata": {},
   "outputs": [
    {
     "name": "stdout",
     "output_type": "stream",
     "text": [
      "Jello, World!\n"
     ]
    }
   ],
   "source": [
    "#Replace String\n",
    "\n",
    "#The replace() method replaces a string with another string:\n",
    "\n",
    "a = \"Hello, World!\"\n",
    "print(a.replace(\"H\", \"J\"))"
   ]
  },
  {
   "cell_type": "code",
   "execution_count": 15,
   "id": "2570167d",
   "metadata": {},
   "outputs": [
    {
     "name": "stdout",
     "output_type": "stream",
     "text": [
      "Helly, Wyrld!\n"
     ]
    }
   ],
   "source": [
    "a = \"Hello, World!\"\n",
    "print(a.replace(\"o\", \"y\"))"
   ]
  },
  {
   "cell_type": "code",
   "execution_count": null,
   "id": "5fde8713",
   "metadata": {},
   "outputs": [],
   "source": []
  }
 ],
 "metadata": {
  "kernelspec": {
   "display_name": "Python 3 (ipykernel)",
   "language": "python",
   "name": "python3"
  },
  "language_info": {
   "codemirror_mode": {
    "name": "ipython",
    "version": 3
   },
   "file_extension": ".py",
   "mimetype": "text/x-python",
   "name": "python",
   "nbconvert_exporter": "python",
   "pygments_lexer": "ipython3",
   "version": "3.11.5"
  }
 },
 "nbformat": 4,
 "nbformat_minor": 5
}
