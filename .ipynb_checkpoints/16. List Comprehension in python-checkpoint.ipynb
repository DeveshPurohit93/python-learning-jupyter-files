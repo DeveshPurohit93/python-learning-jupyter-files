{
 "cells": [
  {
   "cell_type": "code",
   "execution_count": 2,
   "id": "b6946916",
   "metadata": {},
   "outputs": [
    {
     "name": "stdout",
     "output_type": "stream",
     "text": [
      "['apple', 'banana', 'mango']\n"
     ]
    }
   ],
   "source": [
    "\"\"\"\n",
    "List comprehension offers a shorter syntax when you want to create a new list based on the values of an existing list.\n",
    "\"\"\"\n",
    "\n",
    "#Based on a list of fruits, you want a new list, containing only the fruits with the letter \"a\" in the name.\n",
    "\n",
    "#Without list comprehension you will have to write a for statement with a conditional test inside:\n",
    "\n",
    "fruits = [\"apple\", \"banana\", \"cherry\", \"kiwi\", \"mango\"]\n",
    "newlist = []\n",
    "\n",
    "for x in fruits:\n",
    "  if \"a\" in x:\n",
    "    newlist.append(x)\n",
    "\n",
    "print(newlist)"
   ]
  },
  {
   "cell_type": "code",
   "execution_count": 3,
   "id": "f272ea69",
   "metadata": {},
   "outputs": [
    {
     "name": "stdout",
     "output_type": "stream",
     "text": [
      "['apple', 'banana', 'mango']\n"
     ]
    }
   ],
   "source": [
    "# But with list comprehension method that can be acheived by a sngle line of code:\n",
    "\n",
    "fruits = [\"apple\", \"banana\", \"cherry\", \"kiwi\", \"mango\"]\n",
    "\n",
    "newlist = [x for x in fruits if \"a\" in x]\n",
    "\n",
    "print(newlist)"
   ]
  },
  {
   "cell_type": "code",
   "execution_count": 4,
   "id": "eaedb342",
   "metadata": {},
   "outputs": [
    {
     "data": {
      "text/plain": [
       "'\\nnewlist = [expression for item in iterable if condition == True]\\n'"
      ]
     },
     "execution_count": 4,
     "metadata": {},
     "output_type": "execute_result"
    }
   ],
   "source": [
    "# The Syntax\n",
    "\n",
    "\"\"\"\n",
    "newlist = [expression for item in iterable if condition == True]\n",
    "\"\"\"\n",
    "\n"
   ]
  },
  {
   "cell_type": "code",
   "execution_count": 5,
   "id": "bb2eb787",
   "metadata": {},
   "outputs": [],
   "source": [
    "#Condition\n",
    "\n",
    "#The condition is like a filter that only accepts the items that valuate to True.\n",
    "\n",
    "#Only accept items that are not \"apple\":\n",
    "\n",
    "newlist = [x for x in fruits if x != \"apple\"]"
   ]
  },
  {
   "cell_type": "code",
   "execution_count": 6,
   "id": "5695863b",
   "metadata": {},
   "outputs": [],
   "source": [
    "#the condition is optional and can be omitted:\n",
    "\n",
    "newlist = [x for x in fruits]"
   ]
  },
  {
   "cell_type": "code",
   "execution_count": 7,
   "id": "fd43804c",
   "metadata": {},
   "outputs": [],
   "source": [
    "# Iterable\n",
    "\n",
    "\"\"\"\n",
    "The iterable can be any iterable object, like a list, tuple, set etc.\n",
    "\"\"\"\n",
    "\n",
    "#You can use the range() function to create an iterable:\n",
    "\n",
    "newlist = [x for x in range(10)]"
   ]
  },
  {
   "cell_type": "code",
   "execution_count": 8,
   "id": "7b682a11",
   "metadata": {},
   "outputs": [],
   "source": [
    "#Same example, but with a condition:\n",
    "\n",
    "#Accept only numbers lower than 5:\n",
    "\n",
    "newlist = [x for x in range(10) if x < 5]\n"
   ]
  },
  {
   "cell_type": "code",
   "execution_count": 9,
   "id": "8f6b0bea",
   "metadata": {},
   "outputs": [],
   "source": [
    "#Set all values in the new list to 'hello':\n",
    "\n",
    "newlist = ['hello' for x in fruits]"
   ]
  },
  {
   "cell_type": "code",
   "execution_count": 10,
   "id": "8597beb5",
   "metadata": {},
   "outputs": [],
   "source": [
    "#Return \"orange\" instead of \"banana\":\n",
    "\n",
    "newlist = [x if x != \"banana\" else \"orange\" for x in fruits]\n"
   ]
  }
 ],
 "metadata": {
  "kernelspec": {
   "display_name": "Python 3 (ipykernel)",
   "language": "python",
   "name": "python3"
  },
  "language_info": {
   "codemirror_mode": {
    "name": "ipython",
    "version": 3
   },
   "file_extension": ".py",
   "mimetype": "text/x-python",
   "name": "python",
   "nbconvert_exporter": "python",
   "pygments_lexer": "ipython3",
   "version": "3.11.5"
  }
 },
 "nbformat": 4,
 "nbformat_minor": 5
}
