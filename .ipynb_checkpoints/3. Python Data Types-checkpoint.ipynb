{
 "cells": [
  {
   "cell_type": "code",
   "execution_count": 1,
   "id": "6b5ad173",
   "metadata": {},
   "outputs": [
    {
     "data": {
      "text/plain": [
       "'\\n\\nPython has the following data types built-in by default, in these categories:\\n\\nText Type:\\tstr\\nNumeric Types:\\tint, float, complex\\nSequence Types:\\tlist, tuple, range\\nMapping Type:\\tdict\\nSet Types:\\tset, frozenset\\nBoolean Type:\\tbool\\nBinary Types:\\tbytes, bytearray, memoryview\\nNone Type:\\tNoneType\\n\\n'"
      ]
     },
     "execution_count": 1,
     "metadata": {},
     "output_type": "execute_result"
    }
   ],
   "source": [
    "#Python data types\n",
    "\n",
    "\"\"\"\n",
    "\n",
    "Python has the following data types built-in by default, in these categories:\n",
    "\n",
    "Text Type:\tstr\n",
    "Numeric Types:\tint, float, complex\n",
    "Sequence Types:\tlist, tuple, range\n",
    "Mapping Type:\tdict\n",
    "Set Types:\tset, frozenset\n",
    "Boolean Type:\tbool\n",
    "Binary Types:\tbytes, bytearray, memoryview\n",
    "None Type:\tNoneType\n",
    "\n",
    "\"\"\""
   ]
  },
  {
   "cell_type": "code",
   "execution_count": 5,
   "id": "abe88b2b",
   "metadata": {},
   "outputs": [
    {
     "name": "stdout",
     "output_type": "stream",
     "text": [
      "<class 'int'>\n",
      "<class 'str'>\n",
      "<class 'float'>\n",
      "<class 'complex'>\n",
      "<class 'list'>\n",
      "<class 'bool'>\n",
      "<class 'frozenset'>\n",
      "<class 'bytes'>\n",
      "<class 'dict'>\n",
      "<class 'tuple'>\n",
      "<class 'memoryview'>\n"
     ]
    }
   ],
   "source": [
    "# Getting the data type\n",
    "# You can get the data type of any object by using the type() function:\n",
    "x= 5\n",
    "print(type(x))\n",
    "y= \"devesh\"\n",
    "print(type(y))\n",
    "z= 3.5\n",
    "print(type(z))\n",
    "a= 1j\n",
    "print(type(a))\n",
    "b= [\"apple\",\"banana\",\"guava\"]\n",
    "print(type(b))\n",
    "c= True\n",
    "print(type(c))\n",
    "d= frozenset({\"apple\", \"banana\", \"cherry\"})\n",
    "print(type(d))\n",
    "e= b\"Hello\"\n",
    "print(type(e))\n",
    "f= {\"name\" : \"John\", \"age\" : 36}\n",
    "print(type(f))\n",
    "g= (\"apple\", \"banana\", \"cherry\")\n",
    "print(type(g))\n",
    "h= memoryview(bytes(5))\n",
    "print(type(h))"
   ]
  },
  {
   "cell_type": "code",
   "execution_count": null,
   "id": "4f0ed715",
   "metadata": {},
   "outputs": [],
   "source": []
  }
 ],
 "metadata": {
  "kernelspec": {
   "display_name": "Python 3 (ipykernel)",
   "language": "python",
   "name": "python3"
  },
  "language_info": {
   "codemirror_mode": {
    "name": "ipython",
    "version": 3
   },
   "file_extension": ".py",
   "mimetype": "text/x-python",
   "name": "python",
   "nbconvert_exporter": "python",
   "pygments_lexer": "ipython3",
   "version": "3.11.5"
  }
 },
 "nbformat": 4,
 "nbformat_minor": 5
}
